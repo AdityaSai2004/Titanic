{
  "nbformat": 4,
  "nbformat_minor": 0,
  "metadata": {
    "colab": {
      "name": "titanic.ipynb",
      "provenance": [],
      "collapsed_sections": [],
      "authorship_tag": "ABX9TyP4/W8oMRWYRpgzTENfaksW",
      "include_colab_link": true
    },
    "kernelspec": {
      "name": "python3",
      "display_name": "Python 3"
    },
    "language_info": {
      "name": "python"
    }
  },
  "cells": [
    {
      "cell_type": "markdown",
      "metadata": {
        "id": "view-in-github",
        "colab_type": "text"
      },
      "source": [
        "<a href=\"https://colab.research.google.com/github/AdityaSai2004/Titanic/blob/main/titanic.ipynb\" target=\"_parent\"><img src=\"https://colab.research.google.com/assets/colab-badge.svg\" alt=\"Open In Colab\"/></a>"
      ]
    },
    {
      "cell_type": "markdown",
      "metadata": {
        "id": "aTSx_uZWIVF-"
      },
      "source": [
        "Initialisation "
      ]
    },
    {
      "cell_type": "code",
      "metadata": {
        "id": "rggACZeqIGCd"
      },
      "source": [
        "%tensorflow_version 2.x "
      ],
      "execution_count": null,
      "outputs": []
    },
    {
      "cell_type": "markdown",
      "metadata": {
        "id": "doHMrCTIIYb-"
      },
      "source": [
        "Importing modules"
      ]
    },
    {
      "cell_type": "code",
      "metadata": {
        "id": "qcII_xj9Ntyo"
      },
      "source": [
        "from __future__ import absolute_import, division, print_function, unicode_literals\n",
        "from random import randint\n",
        "\n",
        "import numpy as np\n",
        "import pandas as pd\n",
        "import matplotlib.pyplot as plt\n",
        "from IPython.display import clear_output\n",
        "from six.moves import urllib\n",
        "\n",
        "import tensorflow.compat.v2.feature_column as fc\n",
        "\n",
        "import tensorflow as tf"
      ],
      "execution_count": null,
      "outputs": []
    },
    {
      "cell_type": "markdown",
      "metadata": {
        "id": "PFoK8xT1Ie70"
      },
      "source": [
        "Importing Dataset "
      ]
    },
    {
      "cell_type": "code",
      "metadata": {
        "id": "pzewnCdBIkkH"
      },
      "source": [
        "dftrain = pd.read_csv('https://storage.googleapis.com/tf-datasets/titanic/train.csv') # training data\n",
        "dfeval = pd.read_csv('https://storage.googleapis.com/tf-datasets/titanic/eval.csv') # testing data\n",
        "\n",
        "y_train = dftrain.pop('survived')\n",
        "y_eval = dfeval.pop('survived')"
      ],
      "execution_count": null,
      "outputs": []
    },
    {
      "cell_type": "markdown",
      "metadata": {
        "id": "AQMy1uDcI97S"
      },
      "source": [
        "Understanding the data"
      ]
    },
    {
      "cell_type": "code",
      "metadata": {
        "colab": {
          "base_uri": "https://localhost:8080/"
        },
        "id": "25NvI1WwJB7C",
        "outputId": "6cc096f4-7ad1-4e6d-dac6-c1889d01f955"
      },
      "source": [
        "print(dftrain.head())\n",
        "print()\n",
        "print(dftrain.describe())\n",
        "print()\n",
        "print(y_train.head()) #survivors in the training data    "
      ],
      "execution_count": null,
      "outputs": [
        {
          "output_type": "stream",
          "name": "stdout",
          "text": [
            "      sex   age  n_siblings_spouses  parch  ...  class     deck  embark_town alone\n",
            "0    male  22.0                   1      0  ...  Third  unknown  Southampton     n\n",
            "1  female  38.0                   1      0  ...  First        C    Cherbourg     n\n",
            "2  female  26.0                   0      0  ...  Third  unknown  Southampton     y\n",
            "3  female  35.0                   1      0  ...  First        C  Southampton     n\n",
            "4    male  28.0                   0      0  ...  Third  unknown   Queenstown     y\n",
            "\n",
            "[5 rows x 9 columns]\n",
            "\n",
            "              age  n_siblings_spouses       parch        fare\n",
            "count  627.000000          627.000000  627.000000  627.000000\n",
            "mean    29.631308            0.545455    0.379585   34.385399\n",
            "std     12.511818            1.151090    0.792999   54.597730\n",
            "min      0.750000            0.000000    0.000000    0.000000\n",
            "25%     23.000000            0.000000    0.000000    7.895800\n",
            "50%     28.000000            0.000000    0.000000   15.045800\n",
            "75%     35.000000            1.000000    0.000000   31.387500\n",
            "max     80.000000            8.000000    5.000000  512.329200\n",
            "\n",
            "0    0\n",
            "1    1\n",
            "2    1\n",
            "3    1\n",
            "4    0\n",
            "Name: survived, dtype: int64\n"
          ]
        }
      ]
    },
    {
      "cell_type": "markdown",
      "metadata": {
        "id": "fHrYT9Y-J6nQ"
      },
      "source": [
        "**Data segregration **\n",
        "\n",
        "We separate the data into **Categorical and Numeric**"
      ]
    },
    {
      "cell_type": "code",
      "metadata": {
        "id": "-lcnwG0VXF5h",
        "colab": {
          "base_uri": "https://localhost:8080/"
        },
        "outputId": "cf60b528-148f-4e5e-fc42-0dfe87a56b8d"
      },
      "source": [
        "CATEGORICAL_COLUMNS = ['sex', 'n_siblings_spouses', 'parch', 'class', 'deck',\n",
        "                       'embark_town', 'alone']\n",
        "NUMERIC_COLUMNS = ['age', 'fare']\n",
        "\n",
        "feature_columns = []\n",
        "for feature_name in CATEGORICAL_COLUMNS:\n",
        "  vocabulary = dftrain[feature_name].unique()  # gets a list of all unique values from given feature column\n",
        "  feature_columns.append(tf.feature_column.categorical_column_with_vocabulary_list(feature_name, vocabulary))\n",
        "\n",
        "for feature_name in NUMERIC_COLUMNS:\n",
        "  feature_columns.append(tf.feature_column.numeric_column(feature_name, dtype=tf.float32))\n",
        "\n",
        "print(feature_columns)"
      ],
      "execution_count": null,
      "outputs": [
        {
          "output_type": "stream",
          "name": "stdout",
          "text": [
            "[VocabularyListCategoricalColumn(key='sex', vocabulary_list=('male', 'female'), dtype=tf.string, default_value=-1, num_oov_buckets=0), VocabularyListCategoricalColumn(key='n_siblings_spouses', vocabulary_list=(1, 0, 3, 4, 2, 5, 8), dtype=tf.int64, default_value=-1, num_oov_buckets=0), VocabularyListCategoricalColumn(key='parch', vocabulary_list=(0, 1, 2, 5, 3, 4), dtype=tf.int64, default_value=-1, num_oov_buckets=0), VocabularyListCategoricalColumn(key='class', vocabulary_list=('Third', 'First', 'Second'), dtype=tf.string, default_value=-1, num_oov_buckets=0), VocabularyListCategoricalColumn(key='deck', vocabulary_list=('unknown', 'C', 'G', 'A', 'B', 'D', 'F', 'E'), dtype=tf.string, default_value=-1, num_oov_buckets=0), VocabularyListCategoricalColumn(key='embark_town', vocabulary_list=('Southampton', 'Cherbourg', 'Queenstown', 'unknown'), dtype=tf.string, default_value=-1, num_oov_buckets=0), VocabularyListCategoricalColumn(key='alone', vocabulary_list=('n', 'y'), dtype=tf.string, default_value=-1, num_oov_buckets=0), NumericColumn(key='age', shape=(1,), default_value=None, dtype=tf.float32, normalizer_fn=None), NumericColumn(key='fare', shape=(1,), default_value=None, dtype=tf.float32, normalizer_fn=None)]\n"
          ]
        }
      ]
    },
    {
      "cell_type": "markdown",
      "metadata": {
        "id": "_nH3JIIsL9po"
      },
      "source": [
        "# Training\n",
        "\n",
        "Training the dataset"
      ]
    },
    {
      "cell_type": "markdown",
      "metadata": {
        "id": "ZWPCRmmkNJ9c"
      },
      "source": [
        "Input"
      ]
    },
    {
      "cell_type": "code",
      "metadata": {
        "id": "I3qcbvOYbIwa",
        "colab": {
          "base_uri": "https://localhost:8080/"
        },
        "outputId": "aac6c621-079d-4503-868a-c5ed5c683beb"
      },
      "source": [
        "def make_input_fn(data_df, label_df, num_epochs=20, shuffle=True, batch_size=16):\n",
        "  def input_function():  # inner function, this will be returned\n",
        "    ds = tf.data.Dataset.from_tensor_slices((dict(data_df), label_df))  # create tf.data.Dataset object with data and its label\n",
        "    if shuffle:\n",
        "      ds = ds.shuffle(1000)  # randomize order of data\n",
        "    ds = ds.batch(batch_size).repeat(num_epochs)  # split dataset into batches of 16 and repeat process for number of epochs\n",
        "    return ds  # return a batch of the dataset\n",
        "  return input_function  # return a function object for use\n",
        "\n",
        "train_input_fn = make_input_fn(dftrain, y_train)  # here we will call the input_function that was returned to us to get a dataset object we can feed to the model\n",
        "eval_input_fn = make_input_fn(dfeval, y_eval, num_epochs=1, shuffle=False)\n",
        "\n",
        "linear_est = tf.estimator.LinearClassifier(feature_columns=feature_columns)\n",
        "\n"
      ],
      "execution_count": null,
      "outputs": [
        {
          "output_type": "stream",
          "name": "stdout",
          "text": [
            "INFO:tensorflow:Using default config.\n",
            "WARNING:tensorflow:Using temporary folder as model directory: /tmp/tmpo6l2p01a\n",
            "INFO:tensorflow:Using config: {'_model_dir': '/tmp/tmpo6l2p01a', '_tf_random_seed': None, '_save_summary_steps': 100, '_save_checkpoints_steps': None, '_save_checkpoints_secs': 600, '_session_config': allow_soft_placement: true\n",
            "graph_options {\n",
            "  rewrite_options {\n",
            "    meta_optimizer_iterations: ONE\n",
            "  }\n",
            "}\n",
            ", '_keep_checkpoint_max': 5, '_keep_checkpoint_every_n_hours': 10000, '_log_step_count_steps': 100, '_train_distribute': None, '_device_fn': None, '_protocol': None, '_eval_distribute': None, '_experimental_distribute': None, '_experimental_max_worker_delay_secs': None, '_session_creation_timeout_secs': 7200, '_checkpoint_save_graph_def': True, '_service': None, '_cluster_spec': ClusterSpec({}), '_task_type': 'worker', '_task_id': 0, '_global_id_in_cluster': 0, '_master': '', '_evaluation_master': '', '_is_chief': True, '_num_ps_replicas': 0, '_num_worker_replicas': 1}\n"
          ]
        }
      ]
    },
    {
      "cell_type": "markdown",
      "metadata": {
        "id": "x_6M2g3jNL7U"
      },
      "source": [
        "**Training**"
      ]
    },
    {
      "cell_type": "code",
      "metadata": {
        "colab": {
          "base_uri": "https://localhost:8080/"
        },
        "id": "ZetdBze3NNCU",
        "outputId": "57d43049-f1ba-48a6-cc13-5db8bca63357"
      },
      "source": [
        "linear_est.train(train_input_fn)  # train\n",
        "result = linear_est.evaluate(eval_input_fn)  # get model metrics/stats by testing on tetsing data\n",
        "\n",
        "clear_output()  # clears console output\n",
        "print(result)\n",
        "print(result['accuracy'])  # the result variable is simply a dict of stats about our model"
      ],
      "execution_count": null,
      "outputs": [
        {
          "output_type": "stream",
          "name": "stdout",
          "text": [
            "{'accuracy': 0.7765151, 'accuracy_baseline': 0.625, 'auc': 0.83890414, 'auc_precision_recall': 0.79536414, 'average_loss': 0.47119385, 'label/mean': 0.375, 'loss': 0.46654233, 'precision': 0.6923077, 'prediction/mean': 0.40893486, 'recall': 0.72727275, 'global_step': 800}\n",
            "0.7765151\n"
          ]
        }
      ]
    },
    {
      "cell_type": "markdown",
      "metadata": {
        "id": "wdDUhgJKNvyB"
      },
      "source": [
        "# Prediction"
      ]
    },
    {
      "cell_type": "code",
      "metadata": {
        "colab": {
          "base_uri": "https://localhost:8080/",
          "height": 297
        },
        "id": "47t9sFXgN2iH",
        "outputId": "7487d535-205d-4d33-d38a-4a6819a4f9e5"
      },
      "source": [
        "pred_dicts = list(linear_est.predict(eval_input_fn))\n",
        "probs = pd.Series([pred['probabilities'][1] for pred in pred_dicts])\n",
        "clear_output()\n",
        "probs.plot(kind='hist', bins=20, title='predicted probabilities')"
      ],
      "execution_count": null,
      "outputs": [
        {
          "output_type": "execute_result",
          "data": {
            "text/plain": [
              "<matplotlib.axes._subplots.AxesSubplot at 0x7f6d6c428d90>"
            ]
          },
          "metadata": {},
          "execution_count": 61
        },
        {
          "output_type": "display_data",
          "data": {
            "image/png": "[encoded data removed]",
            "text/plain": [
              "<Figure size 432x288 with 1 Axes>"
            ]
          },
          "metadata": {
            "needs_background": "light"
          }
        }
      ]
    },
    {
      "cell_type": "markdown",
      "metadata": {
        "id": "iIwJIWJqYmpk"
      },
      "source": [
        "# Trying to print the results\n"
      ]
    },
    {
      "cell_type": "code",
      "metadata": {
        "colab": {
          "base_uri": "https://localhost:8080/"
        },
        "id": "_bVU6GGrYrrG",
        "outputId": "86523e7e-cc09-4c9a-cdb7-943fb1e00687"
      },
      "source": [
        "n=randint(0,264)\n",
        "#eval_input_fn = make_input_fn(dfeval, y_eval, num_epochs=1, shuffle=False)\n",
        "prediction=list(linear_est.predict(eval_input_fn)) \n",
        "clear_output()\n",
        "survival=float(prediction[n]['probabilities'][1])\n",
        "death=float(prediction[n]['probabilities'][0])\n",
        "print(\"Person details\")\n",
        "print(dfeval.loc[n])\n",
        "df = pd.read_csv(\"https://storage.googleapis.com/tf-datasets/titanic/eval.csv\")\n",
        "print(\"Given survival chance: \",df.loc[n,'survived'])\n",
        "print('\\n','Survival rate = ',survival*100,\"%\\t\",\"Death\",death*100)"
      ],
      "execution_count": null,
      "outputs": [
        {
          "output_type": "stream",
          "name": "stdout",
          "text": [
            "Person details\n",
            "sex                         male\n",
            "age                           40\n",
            "n_siblings_spouses             1\n",
            "parch                          1\n",
            "fare                        15.5\n",
            "class                      Third\n",
            "deck                     unknown\n",
            "embark_town           Queenstown\n",
            "alone                          n\n",
            "Name: 50, dtype: object\n",
            "Given survival chance:  0\n",
            "\n",
            " Survival rate =  9.339185059070587 %\t Death 90.66081643104553\n"
          ]
        }
      ]
    }
  ]
}